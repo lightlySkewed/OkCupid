{
 "cells": [
  {
   "cell_type": "code",
   "execution_count": 90,
   "metadata": {},
   "outputs": [],
   "source": [
    "import pandas as pd\n",
    "import matplotlib.pyplot as plt\n",
    "import seaborn as sns\n",
    "import re\n",
    "from sklearn.preprocessing import OneHotEncoder\n",
    "from sklearn.compose import make_column_transformer\n",
    "from sklearn.preprocessing import OrdinalEncoder"
   ]
  },
  {
   "cell_type": "code",
   "execution_count": 91,
   "metadata": {},
   "outputs": [],
   "source": [
    "# use PCA to reduce dimensionality of religion/ pets/ etc?\n",
    "# if I do this, can I map for prediction\n",
    "# create tone of essays and see if they correlate (PCA here?)\n",
    "# simplify the over-expressed variables."
   ]
  },
  {
   "cell_type": "code",
   "execution_count": 92,
   "metadata": {},
   "outputs": [],
   "source": [
    "df = pd.read_csv('profiles.csv')\n",
    "df1 = df"
   ]
  },
  {
   "cell_type": "code",
   "execution_count": 93,
   "metadata": {},
   "outputs": [
    {
     "data": {
      "text/plain": [
       "Index(['age', 'body_type', 'diet', 'drinks', 'drugs', 'education', 'essay0',\n",
       "       'essay1', 'essay2', 'essay3', 'essay4', 'essay5', 'essay6', 'essay7',\n",
       "       'essay8', 'essay9', 'ethnicity', 'height', 'income', 'job',\n",
       "       'last_online', 'location', 'offspring', 'orientation', 'pets',\n",
       "       'religion', 'sex', 'sign', 'smokes', 'speaks', 'status'],\n",
       "      dtype='object')"
      ]
     },
     "execution_count": 93,
     "metadata": {},
     "output_type": "execute_result"
    }
   ],
   "source": [
    "df1.columns"
   ]
  },
  {
   "cell_type": "code",
   "execution_count": 94,
   "metadata": {},
   "outputs": [],
   "source": [
    "# onehotencode m/f\n",
    "\n",
    "# break off column to OHE - this is done to avoid renaming all of the passthrough columns\n",
    "temp_df = df1[['sex']]\n",
    "\n",
    "# OHE encode \n",
    "transformer = make_column_transformer((OneHotEncoder(), ['sex']), remainder = 'passthrough', sparse_threshold=0)\n",
    "transformed = transformer.fit_transform(temp_df)\n",
    "transformed_df = pd.DataFrame(transformed, columns=transformer.get_feature_names_out())\n",
    "\n",
    "# rename the hot mess of column names that come from onehotencoder\n",
    "col_names = {'onehotencoder__sex_f': 'f', 'onehotencoder__sex_m': 'm'}\n",
    "transformed_df.rename(columns = col_names, inplace = True)\n",
    "\n",
    "# reassemble and reorder the df\n",
    "df1 = pd.concat([df1, transformed_df], axis=1)\n",
    "df1 = df1[['age', 'body_type', 'diet', 'drinks', 'drugs', 'education', 'essay0',\n",
    "       'essay1', 'essay2', 'essay3', 'essay4', 'essay5', 'essay6', 'essay7',\n",
    "       'essay8', 'essay9', 'ethnicity', 'height', 'income', 'job',\n",
    "       'last_online', 'location', 'offspring', 'orientation', 'pets',\n",
    "       'religion', 'sex', 'f', 'm', 'sign', 'smokes', 'speaks', 'status']]"
   ]
  },
  {
   "cell_type": "code",
   "execution_count": 95,
   "metadata": {},
   "outputs": [],
   "source": [
    "# onehotencode body_type\n",
    "# I would love to encode the nan's as 'rather not say' but I better not as they could arise from other issues (web/ UI errors)\n",
    "\n",
    "# isolate column for ohe\n",
    "body_temp_df = df1[['body_type']]\n",
    "\n",
    "# ohe now treats nan's as their own category https://stackoverflow.com/a/72379323\n",
    "\n",
    "# OHE encode \n",
    "b_transformer = make_column_transformer((OneHotEncoder(), ['body_type']), remainder = 'passthrough', sparse_threshold = 0)\n",
    "b_transformed = b_transformer.fit_transform(body_temp_df)\n",
    "b_transformed_df = pd.DataFrame(b_transformed, columns=b_transformer.get_feature_names_out())\n",
    "# rename the hot mess of column names that come from onehotencoder\n",
    "b_transformed_df = b_transformed_df.rename(columns=lambda x: re.sub('onehotencoder__','',x))\n",
    "\n",
    "# reassemble and reorder the df\n",
    "df1 = pd.concat([df1, b_transformed_df], axis=1)"
   ]
  },
  {
   "cell_type": "code",
   "execution_count": 96,
   "metadata": {},
   "outputs": [],
   "source": [
    "# create diet dummies\n",
    "\n",
    "# isolate column for ohe\n",
    "diet_df = df1[['diet']]\n",
    "\n",
    "# OHE encode\n",
    "diet_transformer = make_column_transformer((OneHotEncoder(), ['diet']), remainder = 'passthrough', sparse_threshold = 0)\n",
    "diet_transformed = diet_transformer.fit_transform(diet_df)\n",
    "diet_transformed_df = pd.DataFrame(diet_transformed, columns = diet_transformer.get_feature_names_out())\n",
    "                                           \n",
    "# rename\n",
    "diet_transformed_df = diet_transformed_df.rename(columns = lambda x: re.sub('onehotencoder__', '', x))\n",
    "\n",
    "# combine dfs\n",
    "df1 = pd.concat([df1, diet_transformed_df], axis = 1)\n",
    "               \n",
    "# review\n",
    "# df1.to_csv('test.csv')"
   ]
  },
  {
   "cell_type": "code",
   "execution_count": 97,
   "metadata": {},
   "outputs": [],
   "source": [
    "# create diet strictness measure\n",
    "\n",
    "# build decision function for apply\n",
    "def diet_to_cat(x):\n",
    "    if 'anything' in x: return 0\n",
    "    elif 'strictly' in x: return 3\n",
    "    elif 'mostly' in x: return 1\n",
    "    else: return 2\n",
    "\n",
    "# get rid of nan's to avoid float error\n",
    "df1['diet'].fillna('', inplace=True)\n",
    "\n",
    "# cast as string to avoid object\n",
    "df['diet'] = df['diet'].astype('str')\n",
    "\n",
    "# create numeric variable\n",
    "df1['diet_strictness'] = df1['diet'].apply(diet_to_cat)\n",
    "\n",
    "# define as categorical, ordered data\n",
    "diet_temp = pd.Categorical(df1['diet_strictness'], ordered=True, categories=[0, 1, 2, 3])\n",
    "\n",
    "# replace data in df\n",
    "df1['diet_strictness'] = diet_temp"
   ]
  },
  {
   "cell_type": "code",
   "execution_count": 107,
   "metadata": {},
   "outputs": [
    {
     "ename": "TypeError",
     "evalue": "Horizontal orientation requires numeric `x` variable.",
     "output_type": "error",
     "traceback": [
      "\u001b[1;31m---------------------------------------------------------------------------\u001b[0m",
      "\u001b[1;31mTypeError\u001b[0m                                 Traceback (most recent call last)",
      "Input \u001b[1;32mIn [107]\u001b[0m, in \u001b[0;36m<cell line: 2>\u001b[1;34m()\u001b[0m\n\u001b[0;32m      1\u001b[0m \u001b[38;5;66;03m# would be interesting to view the percentages of male and female at the ends of this distribution (desperately/ not at all)\u001b[39;00m\n\u001b[1;32m----> 2\u001b[0m \u001b[43msns\u001b[49m\u001b[38;5;241;43m.\u001b[39;49m\u001b[43mbarplot\u001b[49m\u001b[43m(\u001b[49m\u001b[43mx\u001b[49m\u001b[43m \u001b[49m\u001b[38;5;241;43m=\u001b[39;49m\u001b[43m \u001b[49m\u001b[43mdf1\u001b[49m\u001b[43m[\u001b[49m\u001b[38;5;124;43m'\u001b[39;49m\u001b[38;5;124;43mdrinks\u001b[39;49m\u001b[38;5;124;43m'\u001b[39;49m\u001b[43m]\u001b[49m\u001b[43m,\u001b[49m\u001b[43m \u001b[49m\u001b[43mdata\u001b[49m\u001b[43m \u001b[49m\u001b[38;5;241;43m=\u001b[39;49m\u001b[43m \u001b[49m\u001b[43mdf1\u001b[49m\u001b[43m,\u001b[49m\u001b[43m \u001b[49m\u001b[43mhue\u001b[49m\u001b[43m \u001b[49m\u001b[38;5;241;43m=\u001b[39;49m\u001b[43m \u001b[49m\u001b[38;5;124;43m'\u001b[39;49m\u001b[38;5;124;43msex\u001b[39;49m\u001b[38;5;124;43m'\u001b[39;49m\u001b[43m)\u001b[49m\n",
      "File \u001b[1;32m~\\anaconda3\\envs\\codecademy\\lib\\site-packages\\seaborn\\_decorators.py:46\u001b[0m, in \u001b[0;36m_deprecate_positional_args.<locals>.inner_f\u001b[1;34m(*args, **kwargs)\u001b[0m\n\u001b[0;32m     36\u001b[0m     warnings\u001b[38;5;241m.\u001b[39mwarn(\n\u001b[0;32m     37\u001b[0m         \u001b[38;5;124m\"\u001b[39m\u001b[38;5;124mPass the following variable\u001b[39m\u001b[38;5;132;01m{}\u001b[39;00m\u001b[38;5;124m as \u001b[39m\u001b[38;5;132;01m{}\u001b[39;00m\u001b[38;5;124mkeyword arg\u001b[39m\u001b[38;5;132;01m{}\u001b[39;00m\u001b[38;5;124m: \u001b[39m\u001b[38;5;132;01m{}\u001b[39;00m\u001b[38;5;124m. \u001b[39m\u001b[38;5;124m\"\u001b[39m\n\u001b[0;32m     38\u001b[0m         \u001b[38;5;124m\"\u001b[39m\u001b[38;5;124mFrom version 0.12, the only valid positional argument \u001b[39m\u001b[38;5;124m\"\u001b[39m\n\u001b[1;32m   (...)\u001b[0m\n\u001b[0;32m     43\u001b[0m         \u001b[38;5;167;01mFutureWarning\u001b[39;00m\n\u001b[0;32m     44\u001b[0m     )\n\u001b[0;32m     45\u001b[0m kwargs\u001b[38;5;241m.\u001b[39mupdate({k: arg \u001b[38;5;28;01mfor\u001b[39;00m k, arg \u001b[38;5;129;01min\u001b[39;00m \u001b[38;5;28mzip\u001b[39m(sig\u001b[38;5;241m.\u001b[39mparameters, args)})\n\u001b[1;32m---> 46\u001b[0m \u001b[38;5;28;01mreturn\u001b[39;00m f(\u001b[38;5;241m*\u001b[39m\u001b[38;5;241m*\u001b[39mkwargs)\n",
      "File \u001b[1;32m~\\anaconda3\\envs\\codecademy\\lib\\site-packages\\seaborn\\categorical.py:3182\u001b[0m, in \u001b[0;36mbarplot\u001b[1;34m(x, y, hue, data, order, hue_order, estimator, ci, n_boot, units, seed, orient, color, palette, saturation, errcolor, errwidth, capsize, dodge, ax, **kwargs)\u001b[0m\n\u001b[0;32m   3169\u001b[0m \u001b[38;5;129m@_deprecate_positional_args\u001b[39m\n\u001b[0;32m   3170\u001b[0m \u001b[38;5;28;01mdef\u001b[39;00m \u001b[38;5;21mbarplot\u001b[39m(\n\u001b[0;32m   3171\u001b[0m     \u001b[38;5;241m*\u001b[39m,\n\u001b[1;32m   (...)\u001b[0m\n\u001b[0;32m   3179\u001b[0m     \u001b[38;5;241m*\u001b[39m\u001b[38;5;241m*\u001b[39mkwargs,\n\u001b[0;32m   3180\u001b[0m ):\n\u001b[1;32m-> 3182\u001b[0m     plotter \u001b[38;5;241m=\u001b[39m \u001b[43m_BarPlotter\u001b[49m\u001b[43m(\u001b[49m\u001b[43mx\u001b[49m\u001b[43m,\u001b[49m\u001b[43m \u001b[49m\u001b[43my\u001b[49m\u001b[43m,\u001b[49m\u001b[43m \u001b[49m\u001b[43mhue\u001b[49m\u001b[43m,\u001b[49m\u001b[43m \u001b[49m\u001b[43mdata\u001b[49m\u001b[43m,\u001b[49m\u001b[43m \u001b[49m\u001b[43morder\u001b[49m\u001b[43m,\u001b[49m\u001b[43m \u001b[49m\u001b[43mhue_order\u001b[49m\u001b[43m,\u001b[49m\n\u001b[0;32m   3183\u001b[0m \u001b[43m                          \u001b[49m\u001b[43mestimator\u001b[49m\u001b[43m,\u001b[49m\u001b[43m \u001b[49m\u001b[43mci\u001b[49m\u001b[43m,\u001b[49m\u001b[43m \u001b[49m\u001b[43mn_boot\u001b[49m\u001b[43m,\u001b[49m\u001b[43m \u001b[49m\u001b[43munits\u001b[49m\u001b[43m,\u001b[49m\u001b[43m \u001b[49m\u001b[43mseed\u001b[49m\u001b[43m,\u001b[49m\n\u001b[0;32m   3184\u001b[0m \u001b[43m                          \u001b[49m\u001b[43morient\u001b[49m\u001b[43m,\u001b[49m\u001b[43m \u001b[49m\u001b[43mcolor\u001b[49m\u001b[43m,\u001b[49m\u001b[43m \u001b[49m\u001b[43mpalette\u001b[49m\u001b[43m,\u001b[49m\u001b[43m \u001b[49m\u001b[43msaturation\u001b[49m\u001b[43m,\u001b[49m\n\u001b[0;32m   3185\u001b[0m \u001b[43m                          \u001b[49m\u001b[43merrcolor\u001b[49m\u001b[43m,\u001b[49m\u001b[43m \u001b[49m\u001b[43merrwidth\u001b[49m\u001b[43m,\u001b[49m\u001b[43m \u001b[49m\u001b[43mcapsize\u001b[49m\u001b[43m,\u001b[49m\u001b[43m \u001b[49m\u001b[43mdodge\u001b[49m\u001b[43m)\u001b[49m\n\u001b[0;32m   3187\u001b[0m     \u001b[38;5;28;01mif\u001b[39;00m ax \u001b[38;5;129;01mis\u001b[39;00m \u001b[38;5;28;01mNone\u001b[39;00m:\n\u001b[0;32m   3188\u001b[0m         ax \u001b[38;5;241m=\u001b[39m plt\u001b[38;5;241m.\u001b[39mgca()\n",
      "File \u001b[1;32m~\\anaconda3\\envs\\codecademy\\lib\\site-packages\\seaborn\\categorical.py:1584\u001b[0m, in \u001b[0;36m_BarPlotter.__init__\u001b[1;34m(self, x, y, hue, data, order, hue_order, estimator, ci, n_boot, units, seed, orient, color, palette, saturation, errcolor, errwidth, capsize, dodge)\u001b[0m\n\u001b[0;32m   1579\u001b[0m \u001b[38;5;28;01mdef\u001b[39;00m \u001b[38;5;21m__init__\u001b[39m(\u001b[38;5;28mself\u001b[39m, x, y, hue, data, order, hue_order,\n\u001b[0;32m   1580\u001b[0m              estimator, ci, n_boot, units, seed,\n\u001b[0;32m   1581\u001b[0m              orient, color, palette, saturation, errcolor,\n\u001b[0;32m   1582\u001b[0m              errwidth, capsize, dodge):\n\u001b[0;32m   1583\u001b[0m     \u001b[38;5;124;03m\"\"\"Initialize the plotter.\"\"\"\u001b[39;00m\n\u001b[1;32m-> 1584\u001b[0m     \u001b[38;5;28;43mself\u001b[39;49m\u001b[38;5;241;43m.\u001b[39;49m\u001b[43mestablish_variables\u001b[49m\u001b[43m(\u001b[49m\u001b[43mx\u001b[49m\u001b[43m,\u001b[49m\u001b[43m \u001b[49m\u001b[43my\u001b[49m\u001b[43m,\u001b[49m\u001b[43m \u001b[49m\u001b[43mhue\u001b[49m\u001b[43m,\u001b[49m\u001b[43m \u001b[49m\u001b[43mdata\u001b[49m\u001b[43m,\u001b[49m\u001b[43m \u001b[49m\u001b[43morient\u001b[49m\u001b[43m,\u001b[49m\n\u001b[0;32m   1585\u001b[0m \u001b[43m                             \u001b[49m\u001b[43morder\u001b[49m\u001b[43m,\u001b[49m\u001b[43m \u001b[49m\u001b[43mhue_order\u001b[49m\u001b[43m,\u001b[49m\u001b[43m \u001b[49m\u001b[43munits\u001b[49m\u001b[43m)\u001b[49m\n\u001b[0;32m   1586\u001b[0m     \u001b[38;5;28mself\u001b[39m\u001b[38;5;241m.\u001b[39mestablish_colors(color, palette, saturation)\n\u001b[0;32m   1587\u001b[0m     \u001b[38;5;28mself\u001b[39m\u001b[38;5;241m.\u001b[39mestimate_statistic(estimator, ci, n_boot, seed)\n",
      "File \u001b[1;32m~\\anaconda3\\envs\\codecademy\\lib\\site-packages\\seaborn\\categorical.py:156\u001b[0m, in \u001b[0;36m_CategoricalPlotter.establish_variables\u001b[1;34m(self, x, y, hue, data, orient, order, hue_order, units)\u001b[0m\n\u001b[0;32m    153\u001b[0m         \u001b[38;5;28;01mraise\u001b[39;00m \u001b[38;5;167;01mValueError\u001b[39;00m(err)\n\u001b[0;32m    155\u001b[0m \u001b[38;5;66;03m# Figure out the plotting orientation\u001b[39;00m\n\u001b[1;32m--> 156\u001b[0m orient \u001b[38;5;241m=\u001b[39m \u001b[43minfer_orient\u001b[49m\u001b[43m(\u001b[49m\n\u001b[0;32m    157\u001b[0m \u001b[43m    \u001b[49m\u001b[43mx\u001b[49m\u001b[43m,\u001b[49m\u001b[43m \u001b[49m\u001b[43my\u001b[49m\u001b[43m,\u001b[49m\u001b[43m \u001b[49m\u001b[43morient\u001b[49m\u001b[43m,\u001b[49m\u001b[43m \u001b[49m\u001b[43mrequire_numeric\u001b[49m\u001b[38;5;241;43m=\u001b[39;49m\u001b[38;5;28;43mself\u001b[39;49m\u001b[38;5;241;43m.\u001b[39;49m\u001b[43mrequire_numeric\u001b[49m\n\u001b[0;32m    158\u001b[0m \u001b[43m\u001b[49m\u001b[43m)\u001b[49m\n\u001b[0;32m    160\u001b[0m \u001b[38;5;66;03m# Option 2a:\u001b[39;00m\n\u001b[0;32m    161\u001b[0m \u001b[38;5;66;03m# We are plotting a single set of data\u001b[39;00m\n\u001b[0;32m    162\u001b[0m \u001b[38;5;66;03m# ------------------------------------\u001b[39;00m\n\u001b[0;32m    163\u001b[0m \u001b[38;5;28;01mif\u001b[39;00m x \u001b[38;5;129;01mis\u001b[39;00m \u001b[38;5;28;01mNone\u001b[39;00m \u001b[38;5;129;01mor\u001b[39;00m y \u001b[38;5;129;01mis\u001b[39;00m \u001b[38;5;28;01mNone\u001b[39;00m:\n\u001b[0;32m    164\u001b[0m \n\u001b[0;32m    165\u001b[0m     \u001b[38;5;66;03m# Determine where the data are\u001b[39;00m\n",
      "File \u001b[1;32m~\\anaconda3\\envs\\codecademy\\lib\\site-packages\\seaborn\\_core.py:1328\u001b[0m, in \u001b[0;36minfer_orient\u001b[1;34m(x, y, orient, require_numeric)\u001b[0m\n\u001b[0;32m   1326\u001b[0m         warnings\u001b[38;5;241m.\u001b[39mwarn(single_var_warning\u001b[38;5;241m.\u001b[39mformat(\u001b[38;5;124m\"\u001b[39m\u001b[38;5;124mVertical\u001b[39m\u001b[38;5;124m\"\u001b[39m, \u001b[38;5;124m\"\u001b[39m\u001b[38;5;124mx\u001b[39m\u001b[38;5;124m\"\u001b[39m))\n\u001b[0;32m   1327\u001b[0m     \u001b[38;5;28;01mif\u001b[39;00m require_numeric \u001b[38;5;129;01mand\u001b[39;00m x_type \u001b[38;5;241m!=\u001b[39m \u001b[38;5;124m\"\u001b[39m\u001b[38;5;124mnumeric\u001b[39m\u001b[38;5;124m\"\u001b[39m:\n\u001b[1;32m-> 1328\u001b[0m         \u001b[38;5;28;01mraise\u001b[39;00m \u001b[38;5;167;01mTypeError\u001b[39;00m(nonnumeric_dv_error\u001b[38;5;241m.\u001b[39mformat(\u001b[38;5;124m\"\u001b[39m\u001b[38;5;124mHorizontal\u001b[39m\u001b[38;5;124m\"\u001b[39m, \u001b[38;5;124m\"\u001b[39m\u001b[38;5;124mx\u001b[39m\u001b[38;5;124m\"\u001b[39m))\n\u001b[0;32m   1329\u001b[0m     \u001b[38;5;28;01mreturn\u001b[39;00m \u001b[38;5;124m\"\u001b[39m\u001b[38;5;124mh\u001b[39m\u001b[38;5;124m\"\u001b[39m\n\u001b[0;32m   1331\u001b[0m \u001b[38;5;28;01melif\u001b[39;00m \u001b[38;5;28mstr\u001b[39m(orient)\u001b[38;5;241m.\u001b[39mstartswith(\u001b[38;5;124m\"\u001b[39m\u001b[38;5;124mv\u001b[39m\u001b[38;5;124m\"\u001b[39m):\n",
      "\u001b[1;31mTypeError\u001b[0m: Horizontal orientation requires numeric `x` variable."
     ]
    }
   ],
   "source": [
    "# would be interesting to view the percentages of male and female at the ends of this distribution (desperately/ not at all)\n",
    "sns.barplot(x = df1['drinks'], data = df1, hue = 'sex')"
   ]
  },
  {
   "cell_type": "code",
   "execution_count": 101,
   "metadata": {},
   "outputs": [
    {
     "name": "stdout",
     "output_type": "stream",
     "text": [
      "<class 'pandas.core.frame.DataFrame'>\n",
      "RangeIndex: 59946 entries, 0 to 59945\n",
      "Data columns (total 66 columns):\n",
      " #   Column                    Non-Null Count  Dtype   \n",
      "---  ------                    --------------  -----   \n",
      " 0   age                       59946 non-null  int64   \n",
      " 1   body_type                 54650 non-null  object  \n",
      " 2   diet                      59946 non-null  object  \n",
      " 3   drinks                    56961 non-null  object  \n",
      " 4   drugs                     45866 non-null  object  \n",
      " 5   education                 53318 non-null  object  \n",
      " 6   essay0                    54458 non-null  object  \n",
      " 7   essay1                    52374 non-null  object  \n",
      " 8   essay2                    50308 non-null  object  \n",
      " 9   essay3                    48470 non-null  object  \n",
      " 10  essay4                    49409 non-null  object  \n",
      " 11  essay5                    49096 non-null  object  \n",
      " 12  essay6                    46175 non-null  object  \n",
      " 13  essay7                    47495 non-null  object  \n",
      " 14  essay8                    40721 non-null  object  \n",
      " 15  essay9                    47343 non-null  object  \n",
      " 16  ethnicity                 54266 non-null  object  \n",
      " 17  height                    59943 non-null  float64 \n",
      " 18  income                    59946 non-null  int64   \n",
      " 19  job                       51748 non-null  object  \n",
      " 20  last_online               59946 non-null  object  \n",
      " 21  location                  59946 non-null  object  \n",
      " 22  offspring                 24385 non-null  object  \n",
      " 23  orientation               59946 non-null  object  \n",
      " 24  pets                      40025 non-null  object  \n",
      " 25  religion                  39720 non-null  object  \n",
      " 26  sex                       59946 non-null  object  \n",
      " 27  f                         59946 non-null  float64 \n",
      " 28  m                         59946 non-null  float64 \n",
      " 29  sign                      48890 non-null  object  \n",
      " 30  smokes                    54434 non-null  object  \n",
      " 31  speaks                    59896 non-null  object  \n",
      " 32  status                    59946 non-null  object  \n",
      " 33  body_type_a little extra  59946 non-null  float64 \n",
      " 34  body_type_athletic        59946 non-null  float64 \n",
      " 35  body_type_average         59946 non-null  float64 \n",
      " 36  body_type_curvy           59946 non-null  float64 \n",
      " 37  body_type_fit             59946 non-null  float64 \n",
      " 38  body_type_full figured    59946 non-null  float64 \n",
      " 39  body_type_jacked          59946 non-null  float64 \n",
      " 40  body_type_overweight      59946 non-null  float64 \n",
      " 41  body_type_rather not say  59946 non-null  float64 \n",
      " 42  body_type_skinny          59946 non-null  float64 \n",
      " 43  body_type_thin            59946 non-null  float64 \n",
      " 44  body_type_used up         59946 non-null  float64 \n",
      " 45  body_type_nan             59946 non-null  float64 \n",
      " 46  diet_anything             59946 non-null  float64 \n",
      " 47  diet_halal                59946 non-null  float64 \n",
      " 48  diet_kosher               59946 non-null  float64 \n",
      " 49  diet_mostly anything      59946 non-null  float64 \n",
      " 50  diet_mostly halal         59946 non-null  float64 \n",
      " 51  diet_mostly kosher        59946 non-null  float64 \n",
      " 52  diet_mostly other         59946 non-null  float64 \n",
      " 53  diet_mostly vegan         59946 non-null  float64 \n",
      " 54  diet_mostly vegetarian    59946 non-null  float64 \n",
      " 55  diet_other                59946 non-null  float64 \n",
      " 56  diet_strictly anything    59946 non-null  float64 \n",
      " 57  diet_strictly halal       59946 non-null  float64 \n",
      " 58  diet_strictly kosher      59946 non-null  float64 \n",
      " 59  diet_strictly other       59946 non-null  float64 \n",
      " 60  diet_strictly vegan       59946 non-null  float64 \n",
      " 61  diet_strictly vegetarian  59946 non-null  float64 \n",
      " 62  diet_vegan                59946 non-null  float64 \n",
      " 63  diet_vegetarian           59946 non-null  float64 \n",
      " 64  diet_nan                  59946 non-null  float64 \n",
      " 65  diet_strictness           59946 non-null  category\n",
      "dtypes: category(1), float64(35), int64(2), object(28)\n",
      "memory usage: 29.8+ MB\n"
     ]
    }
   ],
   "source": [
    "df1.info()"
   ]
  },
  {
   "cell_type": "code",
   "execution_count": 100,
   "metadata": {},
   "outputs": [],
   "source": [
    "# df.replace(r\"<[^<]+?>\", \" \", regex=True, inplace=True)\n",
    "# df.replace(r\"\\n\", \" \", regex=True, inplace=True)\n",
    "# df.replace(r\"&amp;\", \"&\", regex=True, inplace=True)\n",
    "# df.replace(r\"&rsquo;\", \"'\", regex=True, inplace=True)"
   ]
  }
 ],
 "metadata": {
  "kernelspec": {
   "display_name": "Python 3 (ipykernel)",
   "language": "python",
   "name": "python3"
  },
  "language_info": {
   "codemirror_mode": {
    "name": "ipython",
    "version": 3
   },
   "file_extension": ".py",
   "mimetype": "text/x-python",
   "name": "python",
   "nbconvert_exporter": "python",
   "pygments_lexer": "ipython3",
   "version": "3.10.4"
  }
 },
 "nbformat": 4,
 "nbformat_minor": 4
}
