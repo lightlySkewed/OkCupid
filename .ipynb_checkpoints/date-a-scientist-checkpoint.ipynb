{
 "cells": [
  {
   "cell_type": "code",
   "execution_count": 32,
   "metadata": {},
   "outputs": [],
   "source": [
    "import pandas as pd\n",
    "import numpy as np\n",
    "import matplotlib.pyplot as plt\n",
    "import seaborn as sns\n",
    "import re\n",
    "import nltk\n",
    "from sklearn.preprocessing import OneHotEncoder\n",
    "from sklearn.compose import make_column_transformer\n",
    "from sklearn.preprocessing import OrdinalEncoder"
   ]
  },
  {
   "cell_type": "code",
   "execution_count": 34,
   "metadata": {},
   "outputs": [],
   "source": [
    "# use PCA to reduce dimensionality of religion/ pets/ etc?\n",
    "# if I do this, can I map for prediction\n",
    "# create tone of essays and see if they correlate (PCA here?)\n",
    "# simplify the over-expressed variables."
   ]
  },
  {
   "cell_type": "code",
   "execution_count": 35,
   "metadata": {},
   "outputs": [],
   "source": [
    "df = pd.read_csv('profiles.csv')\n",
    "df1 = df"
   ]
  },
  {
   "cell_type": "code",
   "execution_count": 36,
   "metadata": {},
   "outputs": [
    {
     "data": {
      "text/plain": [
       "Index(['age', 'body_type', 'diet', 'drinks', 'drugs', 'education', 'essay0',\n",
       "       'essay1', 'essay2', 'essay3', 'essay4', 'essay5', 'essay6', 'essay7',\n",
       "       'essay8', 'essay9', 'ethnicity', 'height', 'income', 'job',\n",
       "       'last_online', 'location', 'offspring', 'orientation', 'pets',\n",
       "       'religion', 'sex', 'sign', 'smokes', 'speaks', 'status'],\n",
       "      dtype='object')"
      ]
     },
     "execution_count": 36,
     "metadata": {},
     "output_type": "execute_result"
    }
   ],
   "source": [
    "df1.columns"
   ]
  },
  {
   "cell_type": "code",
   "execution_count": 37,
   "metadata": {},
   "outputs": [],
   "source": [
    "# OHEncode m/f\n",
    "\n",
    "# break off column to OHE - this is done to avoid renaming all of the passthrough columns\n",
    "temp_df = df1[['sex']]\n",
    "\n",
    "# OHE encode \n",
    "transformer = make_column_transformer((OneHotEncoder(), ['sex']), remainder = 'passthrough', sparse_threshold=0)\n",
    "transformed = transformer.fit_transform(temp_df)\n",
    "transformed_df = pd.DataFrame(transformed, columns=transformer.get_feature_names_out())\n",
    "\n",
    "# rename the hot mess of column names that come from onehotencoder\n",
    "col_names = {'onehotencoder__sex_f': 'f', 'onehotencoder__sex_m': 'm'}\n",
    "transformed_df.rename(columns = col_names, inplace = True)\n",
    "\n",
    "# reassemble and reorder the df\n",
    "df1 = pd.concat([df1, transformed_df], axis=1)\n",
    "df1 = df1[['age', 'body_type', 'diet', 'drinks', 'drugs', 'education', 'essay0',\n",
    "       'essay1', 'essay2', 'essay3', 'essay4', 'essay5', 'essay6', 'essay7',\n",
    "       'essay8', 'essay9', 'ethnicity', 'height', 'income', 'job',\n",
    "       'last_online', 'location', 'offspring', 'orientation', 'pets',\n",
    "       'religion', 'sex', 'f', 'm', 'sign', 'smokes', 'speaks', 'status']]"
   ]
  },
  {
   "cell_type": "code",
   "execution_count": 38,
   "metadata": {},
   "outputs": [],
   "source": [
    "# OHEncode body_type\n",
    "# I would love to encode the nan's as 'rather not say' but I better not as they could arise from other issues (web/ UI errors)\n",
    "\n",
    "# isolate column for ohe\n",
    "body_temp_df = df1[['body_type']]\n",
    "\n",
    "# ohe now treats nan's as their own category https://stackoverflow.com/a/72379323\n",
    "\n",
    "# OHE encode \n",
    "b_transformer = make_column_transformer((OneHotEncoder(), ['body_type']), remainder = 'passthrough', sparse_threshold = 0)\n",
    "b_transformed = b_transformer.fit_transform(body_temp_df)\n",
    "b_transformed_df = pd.DataFrame(b_transformed, columns=b_transformer.get_feature_names_out())\n",
    "# rename the hot mess of column names that come from onehotencoder\n",
    "b_transformed_df = b_transformed_df.rename(columns=lambda x: re.sub('onehotencoder__','',x))\n",
    "\n",
    "# reassemble and reorder the df\n",
    "df1 = pd.concat([df1, b_transformed_df], axis=1)"
   ]
  },
  {
   "cell_type": "code",
   "execution_count": 39,
   "metadata": {},
   "outputs": [],
   "source": [
    "# OHEncode diet variables\n",
    "\n",
    "# isolate column for ohe\n",
    "diet_df = df1[['diet']]\n",
    "\n",
    "# OHE encode\n",
    "diet_transformer = make_column_transformer((OneHotEncoder(), ['diet']), remainder = 'passthrough', sparse_threshold = 0)\n",
    "diet_transformed = diet_transformer.fit_transform(diet_df)\n",
    "diet_transformed_df = pd.DataFrame(diet_transformed, columns = diet_transformer.get_feature_names_out())\n",
    "                                           \n",
    "# rename\n",
    "diet_transformed_df = diet_transformed_df.rename(columns = lambda x: re.sub('onehotencoder__', '', x))\n",
    "\n",
    "# combine dfs\n",
    "df1 = pd.concat([df1, diet_transformed_df], axis = 1)\n",
    "               \n",
    "# review\n",
    "# df1.to_csv('test.csv')"
   ]
  },
  {
   "cell_type": "code",
   "execution_count": 40,
   "metadata": {},
   "outputs": [],
   "source": [
    "# create diet strictness measure\n",
    "\n",
    "# build decision function for apply\n",
    "def diet_to_cat(x):\n",
    "    if 'anything' in x: return 0\n",
    "    elif 'strictly' in x: return 3\n",
    "    elif 'mostly' in x: return 1\n",
    "    else: return 2\n",
    "\n",
    "# get rid of nan's to avoid float error\n",
    "df1['diet'].fillna('', inplace=True)\n",
    "\n",
    "# cast as string to avoid object\n",
    "df['diet'] = df['diet'].astype('str')\n",
    "\n",
    "# create numeric variable\n",
    "df1['diet_strictness'] = df1['diet'].apply(diet_to_cat)\n",
    "\n",
    "# define as categorical, ordered data\n",
    "diet_temp = pd.Categorical(df1['diet_strictness'], ordered=True, categories=[0, 1, 2, 3])\n",
    "\n",
    "# replace data in df\n",
    "df1['diet_strictness'] = diet_temp"
   ]
  },
  {
   "cell_type": "code",
   "execution_count": 41,
   "metadata": {},
   "outputs": [
    {
     "data": {
      "text/plain": [
       "<AxesSubplot:xlabel='drinks', ylabel='count'>"
      ]
     },
     "execution_count": 41,
     "metadata": {},
     "output_type": "execute_result"
    },
    {
     "data": {
      "image/png": "[encoded data removed]",
      "text/plain": [
       "<Figure size 432x288 with 1 Axes>"
      ]
     },
     "metadata": {
      "needs_background": "light"
     },
     "output_type": "display_data"
    }
   ],
   "source": [
    "# would be interesting to view the percentages of male and female at the ends of this distribution (desperately/ not at all)\n",
    "sns.countplot(x = df1['drinks'], data = df1, hue = 'sex')"
   ]
  },
  {
   "cell_type": "code",
   "execution_count": 42,
   "metadata": {},
   "outputs": [],
   "source": [
    "# OHEncode drinks\n",
    "\n",
    "# isolate column for ohe\n",
    "drinks_df = df1[['drinks']]\n",
    "\n",
    "# ohe now treats nan's as their own category https://stackoverflow.com/a/72379323\n",
    "\n",
    "# OHE encode \n",
    "drinks_transformer = make_column_transformer((OneHotEncoder(), ['drinks']), remainder = 'passthrough', sparse_threshold = 0)\n",
    "drinks_transformed = drinks_transformer.fit_transform(drinks_df)\n",
    "drinks_transformed_df = pd.DataFrame(drinks_transformed, columns=drinks_transformer.get_feature_names_out())\n",
    "# rename the hot mess of column names that come from onehotencoder\n",
    "drinks_transformed_df = drinks_transformed_df.rename(columns=lambda x: re.sub('onehotencoder__','',x))\n",
    "\n",
    "# reassemble and reorder the df\n",
    "df1 = pd.concat([df1, drinks_transformed_df], axis=1)"
   ]
  },
  {
   "cell_type": "code",
   "execution_count": 43,
   "metadata": {},
   "outputs": [],
   "source": [
    "# OHEncode drugs\n",
    "\n",
    "# isolate column for ohe\n",
    "drugs_df = df1[['drugs']]\n",
    "\n",
    "# ohe now treats nan's as their own category https://stackoverflow.com/a/72379323\n",
    "\n",
    "# OHE encode \n",
    "drugs_transformer = make_column_transformer((OneHotEncoder(), ['drugs']), remainder = 'passthrough', sparse_threshold = 0)\n",
    "drugs_transformed = drugs_transformer.fit_transform(drugs_df)\n",
    "drugs_transformed_df = pd.DataFrame(drugs_transformed, columns=drugs_transformer.get_feature_names_out())\n",
    "# rename the hot mess of column names that come from onehotencoder\n",
    "drugs_transformed_df = drugs_transformed_df.rename(columns=lambda x: re.sub('onehotencoder__','',x))\n",
    "\n",
    "# reassemble and reorder the df\n",
    "df1 = pd.concat([df1, drugs_transformed_df], axis=1)"
   ]
  },
  {
   "cell_type": "code",
   "execution_count": 44,
   "metadata": {},
   "outputs": [],
   "source": [
    "# onehotencode education\n",
    "\n",
    "# isolate column for ohe\n",
    "education_df = df1[['education']]\n",
    "\n",
    "# ohe now treats nan's as their own category https://stackoverflow.com/a/72379323\n",
    "\n",
    "# OHE encode \n",
    "education_transformer = make_column_transformer((OneHotEncoder(), ['education']), remainder = 'passthrough', sparse_threshold = 0)\n",
    "education_transformed = education_transformer.fit_transform(education_df)\n",
    "education_transformed_df = pd.DataFrame(education_transformed, columns=education_transformer.get_feature_names_out())\n",
    "# rename the hot mess of column names that come from onehotencoder\n",
    "education_transformed_df = education_transformed_df.rename(columns=lambda x: re.sub('onehotencoder__','',x))\n",
    "\n",
    "# reassemble and reorder the df\n",
    "df1 = pd.concat([df1, education_transformed_df], axis=1)"
   ]
  },
  {
   "cell_type": "code",
   "execution_count": 45,
   "metadata": {},
   "outputs": [],
   "source": [
    "# encode ethnicity after filtering by 'primary' ethnicity\n",
    "\n",
    "df1['ethnicity'].fillna('', inplace = True)\n",
    "\n",
    "def primary_ethnicity(x):\n",
    "    split_string = x.split(', ')\n",
    "    primary_ethnicity = split_string[0]\n",
    "    return primary_ethnicity\n",
    "\n",
    "df1['primary_ethnicity'] = df1['ethnicity'].apply(primary_ethnicity)\n",
    "\n",
    "# onehotencode primary_ethnicity\n",
    "\n",
    "# isolate column for ohe\n",
    "primary_ethnicity_df = df1[['primary_ethnicity']]\n",
    "\n",
    "# ohe now treats nan's as their own category https://stackoverflow.com/a/72379323\n",
    "\n",
    "# OHE encode \n",
    "primary_ethnicity_transformer = make_column_transformer((OneHotEncoder(), ['primary_ethnicity']), remainder = 'passthrough', sparse_threshold = 0)\n",
    "primary_ethnicity_transformed = primary_ethnicity_transformer.fit_transform(primary_ethnicity_df)\n",
    "primary_ethnicity_transformed_df = pd.DataFrame(primary_ethnicity_transformed, columns=primary_ethnicity_transformer.get_feature_names_out())\n",
    "# rename the hot mess of column names that come from onehotencoder\n",
    "primary_ethnicity_transformed_df = primary_ethnicity_transformed_df.rename(columns=lambda x: re.sub('onehotencoder__','',x))\n",
    "\n",
    "# reassemble and reorder the df\n",
    "df1 = pd.concat([df1, primary_ethnicity_transformed_df], axis=1)"
   ]
  },
  {
   "cell_type": "code",
   "execution_count": 46,
   "metadata": {},
   "outputs": [],
   "source": [
    "# create 'reported income' variable\n",
    "df1['reported_income'] = df1['income'].apply(lambda x: 1 if x>0 else 0)\n",
    "\n",
    "# create income bins with np.nan for non-reporters\n",
    "df1['income_bins_w_nan'] = df1['income'].apply(lambda x: 3 if (x>=500000 and x<=1000000) \n",
    "                                              else 2 if (x>=100000 and x<=250000)\n",
    "                                              else 1 if (x<250000 and x>0)\n",
    "                                              else np.nan)\n",
    "\n",
    "# create income bins with 0 for non-reporters\n",
    "df1['income_bins'] = df1['income'].apply(lambda x: 3 if (x>=500000 and x<=1000000) \n",
    "                                              else 2 if (x>=100000 and x<=250000)\n",
    "                                              else 1 if (x<250000 and x>0)\n",
    "                                              else 0)"
   ]
  },
  {
   "cell_type": "code",
   "execution_count": 48,
   "metadata": {},
   "outputs": [],
   "source": [
    "#remove html chars from dataframe\n",
    "df1.replace(r'''<\\/?\\w+((\\s+\\w+(\\s*=\\s*(?:\".*?\"|'.*?'|[^'\">\\s]+))?)+\\s*|\\s*)\\/?>''', \" \", regex=True, inplace=True)\n",
    "\n",
    "#remove URL items from dataframe\n",
    "df1.replace(r'''[-a-zA-Z0-9@:%_\\+.~#?&//=]{2,256}\\.[a-z]{2,4}\\b(\\/[-a-zA-Z0-9@:%_\\+.~#?&//=]*)?''', \" \", regex=True, inplace=True)\n",
    "\n",
    "# remove newlines from dataframe\n",
    "df1.replace(r\"\\n\", \" \", regex=True, inplace=True)\n",
    "\n",
    "# remove char refs\n",
    "df1.replace(r\"&amp;\", \"&\", regex=True, inplace=True)\n",
    "df1.replace(r\"&rsquo;\", \"'\", regex=True, inplace=True)"
   ]
  },
  {
   "cell_type": "code",
   "execution_count": 49,
   "metadata": {},
   "outputs": [],
   "source": [
    "# create a bio feature that combines all essays\n",
    "essay_list = [\"essay\" + str(i) for i in range(0,10)]\n",
    "df1['biography'] = df1[essay_list].apply(lambda x: x + ' ').fillna(' ').sum(axis=1)\n",
    "df1['biography'].replace(r\"\\s+\", \" \", regex=True, inplace=True)"
   ]
  },
  {
   "cell_type": "code",
   "execution_count": 55,
   "metadata": {},
   "outputs": [],
   "source": [
    "# create sentiment indicator column\n",
    "from nltk.sentiment import SentimentIntensityAnalyzer\n",
    "\n",
    "sia = SentimentIntensityAnalyzer()\n",
    "\n",
    "# import stop words\n",
    "stop_words = nltk.corpus.stopwords.words('english')\n",
    "\n",
    "# process bio and estimate sentiment\n",
    "def get_sentiment(x):\n",
    "    # tokenize biography text\n",
    "    bio_text = nltk.word_tokenize(x)\n",
    "    \n",
    "    # keep only alpha characters\n",
    "    bio_words = [w for w in bio_text if w.isalpha()]\n",
    "    \n",
    "    # filter stop words\n",
    "    bio_nonstop_words = [w for w in bio_words if w.lower() not in stop_words]\n",
    "    \n",
    "    # create string for sentiment analysis\n",
    "    bio_nonstop_words = ' '.join(bio_nonstop_words)\n",
    "    \n",
    "    # estimate sentiment\n",
    "    bio_sent = sia.polarity_scores(bio_nonstop_words)\n",
    "    \n",
    "    # return sentiment\n",
    "    return bio_sent['compound']\n",
    "\n",
    "df1['bio_sentiment'] = df1['biography'].apply(get_sentiment)"
   ]
  },
  {
   "cell_type": "code",
   "execution_count": 63,
   "metadata": {},
   "outputs": [],
   "source": [
    "# fig = plt.figure(figsize=(15, 12))\n",
    "# sns.histplot(data=df1, x='bio_sentiment', kde=True)"
   ]
  },
  {
   "cell_type": "code",
   "execution_count": 75,
   "metadata": {},
   "outputs": [
    {
     "name": "stdout",
     "output_type": "stream",
     "text": [
      "<class 'pandas.core.frame.DataFrame'>\n",
      "RangeIndex: 59946 entries, 0 to 59945\n",
      "Columns: 148 entries, age to job_nan\n",
      "dtypes: category(1), float64(91), int64(4), object(30), uint8(22)\n",
      "memory usage: 58.5+ MB\n",
      "None\n"
     ]
    }
   ],
   "source": [
    "job_dummies = pd.get_dummies(df1['job'], prefix='job', prefix_sep='_', dummy_na=True, drop_first=False)\n",
    "df1 = pd.concat([df1, job_dummies], axis=1)\n",
    "print(df1.info())"
   ]
  },
  {
   "cell_type": "code",
   "execution_count": 78,
   "metadata": {},
   "outputs": [
    {
     "name": "stdout",
     "output_type": "stream",
     "text": [
      "<class 'pandas.core.frame.DataFrame'>\n",
      "RangeIndex: 59946 entries, 0 to 59945\n",
      "Columns: 164 entries, age to offspring_nan\n",
      "dtypes: category(1), float64(91), int64(4), object(30), uint8(38)\n",
      "memory usage: 59.4+ MB\n"
     ]
    }
   ],
   "source": [
    "offspring_dummies = pd.get_dummies(df1['offspring'], prefix='offspring',  prefix_sep='_', dummy_na=True, drop_first=False)\n",
    "df1 = pd.concat([df1, offspring_dummies], axis=1)\n",
    "df1.info()"
   ]
  },
  {
   "cell_type": "code",
   "execution_count": 79,
   "metadata": {},
   "outputs": [
    {
     "name": "stdout",
     "output_type": "stream",
     "text": [
      "<class 'pandas.core.frame.DataFrame'>\n",
      "RangeIndex: 59946 entries, 0 to 59945\n",
      "Columns: 168 entries, age to orientation_nan\n",
      "dtypes: category(1), float64(91), int64(4), object(30), uint8(42)\n",
      "memory usage: 59.6+ MB\n"
     ]
    }
   ],
   "source": [
    "orientation_dummies = pd.get_dummies(df1['orientation'], prefix='orientation',  prefix_sep='_', dummy_na=True, drop_first=False)\n",
    "df1 = pd.concat([df1, orientation_dummies], axis=1)\n",
    "df1.info()"
   ]
  },
  {
   "cell_type": "code",
   "execution_count": 81,
   "metadata": {},
   "outputs": [
    {
     "name": "stdout",
     "output_type": "stream",
     "text": [
      "<class 'pandas.core.frame.DataFrame'>\n",
      "RangeIndex: 59946 entries, 0 to 59945\n",
      "Columns: 184 entries, age to pets_nan\n",
      "dtypes: category(1), float64(91), int64(4), object(30), uint8(58)\n",
      "memory usage: 60.5+ MB\n"
     ]
    }
   ],
   "source": [
    "pets_dummies = pd.get_dummies(df1['pets'], prefix='pets',  prefix_sep='_', dummy_na=True, drop_first=False)\n",
    "df1 = pd.concat([df1, pets_dummies], axis=1)\n",
    "df1.info()"
   ]
  },
  {
   "cell_type": "code",
   "execution_count": 83,
   "metadata": {},
   "outputs": [],
   "source": [
    "# create measure of religious fervor\n",
    "\n",
    "# build decision function for apply\n",
    "def religion_to_cat(x):\n",
    "    if 'laughing about it' in x: return 0\n",
    "    elif 'not too serious about it' in x: return 1\n",
    "    elif 'somewhat serious about it' in x: return 3\n",
    "    elif 'very serious about it' in x: return 4\n",
    "    else: return 2\n",
    "\n",
    "# get rid of nan's to avoid float error\n",
    "df1['religion'].fillna('', inplace=True)\n",
    "\n",
    "# cast as string to avoid object\n",
    "df['religion'] = df['religion'].astype('str')\n",
    "\n",
    "# create numeric variable\n",
    "df1['rel_fervor'] = df1['religion'].apply(religion_to_cat)\n",
    "\n",
    "# define as categorical, ordered data\n",
    "religion_temp = pd.Categorical(df1['rel_fervor'], ordered=True, categories=[0, 1, 2, 3, 4])\n",
    "\n",
    "# replace data in df\n",
    "df1['rel_fervor'] = religion_temp"
   ]
  },
  {
   "cell_type": "code",
   "execution_count": 86,
   "metadata": {},
   "outputs": [
    {
     "name": "stdout",
     "output_type": "stream",
     "text": [
      "<class 'pandas.core.frame.DataFrame'>\n",
      "RangeIndex: 59946 entries, 0 to 59945\n",
      "Columns: 191 entries, age to smokes_nan\n",
      "dtypes: category(2), float64(91), int64(4), object(30), uint8(64)\n",
      "memory usage: 60.9+ MB\n"
     ]
    }
   ],
   "source": [
    "smokes_dummies = pd.get_dummies(df1['smokes'], prefix='smokes',  prefix_sep='_', dummy_na=True, drop_first=False)\n",
    "df1 = pd.concat([df1, smokes_dummies], axis=1)\n",
    "df1.info()"
   ]
  },
  {
   "cell_type": "code",
   "execution_count": 89,
   "metadata": {},
   "outputs": [
    {
     "name": "stdout",
     "output_type": "stream",
     "text": [
      "<class 'pandas.core.frame.DataFrame'>\n",
      "RangeIndex: 59946 entries, 0 to 59945\n",
      "Columns: 197 entries, age to status_nan\n",
      "dtypes: category(2), float64(91), int64(4), object(30), uint8(70)\n",
      "memory usage: 61.3+ MB\n"
     ]
    }
   ],
   "source": [
    "status_dummies = pd.get_dummies(df1['status'], prefix='status',  prefix_sep='_', dummy_na=True, drop_first=False)\n",
    "df1 = pd.concat([df1, status_dummies], axis=1)\n",
    "df1.info()"
   ]
  },
  {
   "cell_type": "code",
   "execution_count": 99,
   "metadata": {},
   "outputs": [],
   "source": [
    "# encode the number of languages spoken. here a blank is considered at least one language\n",
    "\n",
    "def num_languages(x):\n",
    "    split_string = x.split(', ')\n",
    "    num_langs = len(split_string)\n",
    "    return num_langs\n",
    "\n",
    "df1['num_languages'] = df1['speaks'].apply(num_languages)"
   ]
  },
  {
   "cell_type": "code",
   "execution_count": 115,
   "metadata": {},
   "outputs": [],
   "source": [
    "df1['speaks'].replace(r' \\(.*?\\)', \"\", regex=True, inplace=True)\n",
    "df1['speaks'].replace(r' ', \"\", regex=True, inplace=True)"
   ]
  },
  {
   "cell_type": "code",
   "execution_count": 119,
   "metadata": {},
   "outputs": [],
   "source": [
    "# temp_lang_list = []\n",
    "\n",
    "# for row in df1['speaks']:\n",
    "#     langs = row.split(',')\n",
    "#     for item in langs:\n",
    "#         temp_lang_list.append(item)\n",
    "\n",
    "# unique_langs = list(set(temp_lang_list))\n",
    "# sorted_langs = unique_langs.sort()\n",
    "# print(unique_langs)\n",
    "\n",
    "# code_langs = ['c++', 'lisp']\n",
    "\n",
    "def coder_check(x):\n",
    "    if 'c++' in x or 'lisp' in x: return 1\n",
    "    else: return 0\n",
    "\n",
    "df1['coder'] = df1['speaks'].apply(coder_check)"
   ]
  }
 ],
 "metadata": {
  "kernelspec": {
   "display_name": "Python 3",
   "language": "python",
   "name": "python3"
  },
  "language_info": {
   "codemirror_mode": {
    "name": "ipython",
    "version": 3
   },
   "file_extension": ".py",
   "mimetype": "text/x-python",
   "name": "python",
   "nbconvert_exporter": "python",
   "pygments_lexer": "ipython3",
   "version": "3.8.3"
  }
 },
 "nbformat": 4,
 "nbformat_minor": 4
}
